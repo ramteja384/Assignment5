{
 "cells": [
  {
   "cell_type": "markdown",
   "metadata": {},
   "source": [
    "Data Analysis:\n",
    "    A process of inspecting, cleansing, transforming and modeling data with the goal of discovering useful information, informing conclusion and supporting decision-making."
   ]
  },
  {
   "cell_type": "markdown",
   "metadata": {},
   "source": [
    "Data Analysis Tools:\n",
    "    *Tableau\n",
    "    *R\n",
    "    *SQL\n",
    "    *Power BI\n",
    "    *SPSS\n",
    "    *QlikQ\n",
    "    *Zulia\n",
    "    *Zoho Analytics"
   ]
  },
  {
   "cell_type": "markdown",
   "metadata": {},
   "source": [
    "Data Analysis Process:\n",
    "    *Data Extraction\n",
    "    *Data Cleaning\n",
    "    *Data Wrangling\n",
    "    *Analysis\n",
    "    *Action"
   ]
  },
  {
   "cell_type": "markdown",
   "metadata": {},
   "source": [
    "Data Analysis VS Data Science:\n",
    "    Data Analytics is intended to elucidate the intricacies of retrieved insights, while Data Science focuses on identifying relevant correlations between massive datasets. To put it another way, Data Analytics is a division of Data Science that focuses on providing more detailed responses to the issues that Data Science raises."
   ]
  },
  {
   "cell_type": "code",
   "execution_count": null,
   "metadata": {},
   "outputs": [],
   "source": []
  }
 ],
 "metadata": {
  "kernelspec": {
   "display_name": "Python 3",
   "language": "python",
   "name": "python3"
  },
  "language_info": {
   "codemirror_mode": {
    "name": "ipython",
    "version": 3
   },
   "file_extension": ".py",
   "mimetype": "text/x-python",
   "name": "python",
   "nbconvert_exporter": "python",
   "pygments_lexer": "ipython3",
   "version": "3.8.5"
  }
 },
 "nbformat": 4,
 "nbformat_minor": 4
}
